{
  "nbformat": 4,
  "nbformat_minor": 0,
  "metadata": {
    "colab": {
      "provenance": [],
      "authorship_tag": "ABX9TyMRu65J+I1IK/vwkgeeGpg7",
      "include_colab_link": true
    },
    "kernelspec": {
      "name": "python3",
      "display_name": "Python 3"
    },
    "language_info": {
      "name": "python"
    }
  },
  "cells": [
    {
      "cell_type": "markdown",
      "metadata": {
        "id": "view-in-github",
        "colab_type": "text"
      },
      "source": [
        "<a href=\"https://colab.research.google.com/github/ThapasPPramod/100DaysOfCode/blob/main/CaesarCipher.ipynb\" target=\"_parent\"><img src=\"https://colab.research.google.com/assets/colab-badge.svg\" alt=\"Open In Colab\"/></a>"
      ]
    },
    {
      "cell_type": "code",
      "execution_count": 9,
      "metadata": {
        "id": "WWtH7SAWOSBs"
      },
      "outputs": [],
      "source": [
        "class CaesarCode():\n",
        "  def __init__(self):\n",
        "    self.cipher = ''\n",
        "    self.plaintext = ''\n",
        "  def encrypt(self):\n",
        "    plaintext = list(input('Enter message: ').strip())\n",
        "    self.shift = int(input('Enter shift: ').strip())\n",
        "    for char in plaintext:\n",
        "      asc = ord(char)\n",
        "      if asc > 90:\n",
        "        diff = 122 - (self.shift % 26 + asc)\n",
        "        if diff < 0:\n",
        "          self.cipher += chr(96 - diff)\n",
        "        else:\n",
        "          self.cipher += chr(122 - diff)\n",
        "      else:\n",
        "        diff = 90 - (self.shift % 26 + asc)\n",
        "        if diff < 0:\n",
        "          self.cipher += chr(64 - diff)\n",
        "        else:\n",
        "          self.cipher += chr(90 - diff)\n",
        "  def decrypt(self):\n",
        "    cipher = list(input('Enter message: ').strip())\n",
        "    self.shift = int(input('Enter shift: ').strip())\n",
        "    for char in cipher:\n",
        "      asc = ord(char)\n",
        "      if asc > 90:\n",
        "        diff = 97 - (- (self.shift % 26) + asc)\n",
        "        if diff > 0:\n",
        "          self.plaintext += chr(123 - diff)\n",
        "        else:\n",
        "          self.plaintext += chr(97 - diff)\n",
        "      else:\n",
        "        diff = 65 - (-(self.shift % 26) + asc)\n",
        "        if diff > 0:\n",
        "          self.plaintext += chr(91 - diff)\n",
        "        else:\n",
        "          self.plaintext += chr(65 - diff)\n",
        "\n",
        "\n",
        "\n"
      ]
    },
    {
      "cell_type": "code",
      "source": [
        "while True:\n",
        "  code = CaesarCode()\n",
        "  choice = input('encode(e) or decrypt(d)?: ')\n",
        "  if choice == 'e':\n",
        "    code.encrypt()\n",
        "    print('Encrypted message: ', code.cipher)\n",
        "  elif choice == 'd':\n",
        "    code.decrypt()\n",
        "    print('Decrypted message: ', code.plaintext)\n",
        "  else:\n",
        "    print('Invalid operation!')\n",
        "  if input('Continue? ') not in ('y', 'Y', 'yes', 'YES', 'Yes'):\n",
        "    break"
      ],
      "metadata": {
        "colab": {
          "base_uri": "https://localhost:8080/"
        },
        "id": "YzCaouicOwG1",
        "outputId": "730d2a5e-1518-44db-8223-1303812abcd9"
      },
      "execution_count": 10,
      "outputs": [
        {
          "name": "stdout",
          "output_type": "stream",
          "text": [
            "encode(e) or decrypt(d)?: e\n",
            "Enter message: Hihowareyou\n",
            "Enter shift: 7\n",
            "Encrypted message:  Opovdhylfvb\n",
            "Continue? y\n",
            "encode(e) or decrypt(d)?: d\n",
            "Enter message: Opovdhylfvb\n",
            "Enter shift: 7\n",
            "Decrypted message:  Hihowareyou\n",
            "Continue? y\n",
            "encode(e) or decrypt(d)?: Imfinehowabtu\n",
            "Invalid operation!\n",
            "Continue? y\n",
            "encode(e) or decrypt(d)?: e\n",
            "Enter message: Imfinehowabtu\n",
            "Enter shift: 8\n",
            "Encrypted message:  Qunqvmpweijbc\n",
            "Continue? y\n",
            "encode(e) or decrypt(d)?: d\n",
            "Enter message: Qunqvmpweijbc\n",
            "Enter shift: 8\n",
            "Decrypted message:  Imfinehowabtu\n",
            "Continue? y\n",
            "encode(e) or decrypt(d)?: e\n",
            "Enter message: bye\n",
            "Enter shift: 9\n",
            "Encrypted message:  khn\n",
            "Continue? y\n",
            "encode(e) or decrypt(d)?: d\n",
            "Enter message: khn\n",
            "Enter shift: 9\n",
            "Decrypted message:  bye\n",
            "Continue? n\n"
          ]
        }
      ]
    }
  ]
}