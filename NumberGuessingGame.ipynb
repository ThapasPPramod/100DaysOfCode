{
  "nbformat": 4,
  "nbformat_minor": 0,
  "metadata": {
    "colab": {
      "provenance": [],
      "authorship_tag": "ABX9TyMqNB4SiPQL5ULqIRUESrM7",
      "include_colab_link": true
    },
    "kernelspec": {
      "name": "python3",
      "display_name": "Python 3"
    },
    "language_info": {
      "name": "python"
    }
  },
  "cells": [
    {
      "cell_type": "markdown",
      "metadata": {
        "id": "view-in-github",
        "colab_type": "text"
      },
      "source": [
        "<a href=\"https://colab.research.google.com/github/ThapasPPramod/100DaysOfCode/blob/main/NumberGuessingGame.ipynb\" target=\"_parent\"><img src=\"https://colab.research.google.com/assets/colab-badge.svg\" alt=\"Open In Colab\"/></a>"
      ]
    },
    {
      "cell_type": "code",
      "source": [
        "import random\n",
        "from IPython.display import clear_output"
      ],
      "metadata": {
        "id": "EqpS3iuLs9L9"
      },
      "execution_count": 18,
      "outputs": []
    },
    {
      "cell_type": "code",
      "execution_count": 19,
      "metadata": {
        "id": "YPC4hbyXppy0"
      },
      "outputs": [],
      "source": [
        "class NGC():\n",
        "  def __init__(self, mode):\n",
        "    self.setMode(mode)\n",
        "    self.setAttempts()\n",
        "    self.setRandomNumber()\n",
        "    self.min, self.max = 0, 100\n",
        "\n",
        "  def setMode(self, mode='Easy'):\n",
        "    self.mode = mode\n",
        "    return\n",
        "\n",
        "  def setAttempts(self):\n",
        "    self.attempts_left = 10 if self.mode == 'Easy' else 5\n",
        "    return\n",
        "\n",
        "  def setRandomNumber(self):\n",
        "    self.num = random.randint(0, 100)\n",
        "    return\n",
        "\n",
        "  def eval(self,num):\n",
        "    if self.num == num:\n",
        "      return 'Correct! You win!', True\n",
        "    diff = self.num - num\n",
        "    if diff < 0:\n",
        "      self.max = num\n",
        "      if diff < -20:\n",
        "        return 'Too high!', False\n",
        "      return 'high!', False\n",
        "    else:\n",
        "      self.min = num\n",
        "      if diff > 20:\n",
        "        return 'Too low!', False\n",
        "      return 'low!', False\n",
        "\n",
        "  def updateAttempts(self):\n",
        "    try:\n",
        "      self.attempts_left -= 1\n",
        "      return self.attempts_left\n",
        "    except Exception as e:\n",
        "      return 0\n",
        "\n",
        "  def gamePlay(self):\n",
        "    while True:\n",
        "      clear_output(wait=True)\n",
        "      num = int(input(f'Guess a number between ({self.min}-{self.max}) : ').strip())\n",
        "      result = self.eval(num)\n",
        "      print(result[0])\n",
        "      if self.attempts_left == 1 or result[1]:\n",
        "        if not result[1]:\n",
        "          print(f'You lose! The number was {self.num}')\n",
        "        break\n",
        "      print(f'{self.updateAttempts()} guesses left')\n",
        "    return\n",
        "\n",
        "\n",
        "\n",
        "\n",
        "\n"
      ]
    },
    {
      "cell_type": "code",
      "source": [
        "def main():\n",
        "  retry = False\n",
        "  while True:\n",
        "    if retry:\n",
        "      choice = input('Play again?(y/n) : ').strip()\n",
        "      if choice in ('n', 'N'):\n",
        "        break\n",
        "    choice = input('Game mode Easy(e) or Hard(h)? : ').strip()\n",
        "    mode = 'Easy' if choice =='e' else 'Hard'\n",
        "    game = NGC(mode)\n",
        "    game.gamePlay()\n",
        "    retry = True\n",
        "  return\n"
      ],
      "metadata": {
        "id": "jC48fhGdryK_"
      },
      "execution_count": 20,
      "outputs": []
    },
    {
      "cell_type": "code",
      "source": [
        "main()"
      ],
      "metadata": {
        "colab": {
          "base_uri": "https://localhost:8080/"
        },
        "id": "EL6X3-2hxkn8",
        "outputId": "4f2abe8f-eba6-4b05-ce34-854a1aa928a9"
      },
      "execution_count": 21,
      "outputs": [
        {
          "name": "stdout",
          "output_type": "stream",
          "text": [
            "Guess a number between (0-8) : 4\n",
            "high!\n",
            "You lose! The number was 3\n",
            "Play again?(y/n) : n\n"
          ]
        }
      ]
    }
  ]
}