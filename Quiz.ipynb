{
  "nbformat": 4,
  "nbformat_minor": 0,
  "metadata": {
    "colab": {
      "provenance": [],
      "authorship_tag": "ABX9TyNN6K66tR19gScDr4WGO26a",
      "include_colab_link": true
    },
    "kernelspec": {
      "name": "python3",
      "display_name": "Python 3"
    },
    "language_info": {
      "name": "python"
    }
  },
  "cells": [
    {
      "cell_type": "markdown",
      "metadata": {
        "id": "view-in-github",
        "colab_type": "text"
      },
      "source": [
        "<a href=\"https://colab.research.google.com/github/ThapasPPramod/100DaysOfCode/blob/main/Quiz.ipynb\" target=\"_parent\"><img src=\"https://colab.research.google.com/assets/colab-badge.svg\" alt=\"Open In Colab\"/></a>"
      ]
    },
    {
      "cell_type": "code",
      "source": [
        "!pip install prettytable"
      ],
      "metadata": {
        "colab": {
          "base_uri": "https://localhost:8080/"
        },
        "id": "jMhSQuE8ziyE",
        "outputId": "5b962b2d-9530-461e-976f-b4b3d0dfbd88"
      },
      "execution_count": 1,
      "outputs": [
        {
          "output_type": "stream",
          "name": "stdout",
          "text": [
            "Requirement already satisfied: prettytable in /usr/local/lib/python3.10/dist-packages (3.9.0)\n",
            "Requirement already satisfied: wcwidth in /usr/local/lib/python3.10/dist-packages (from prettytable) (0.2.12)\n"
          ]
        }
      ]
    },
    {
      "cell_type": "code",
      "source": [
        "import requests, json, random, html\n",
        "from bs4 import BeautifulSoup\n",
        "from IPython.display import clear_output\n",
        "from prettytable import PrettyTable"
      ],
      "metadata": {
        "id": "HzU-NEbZzz8W"
      },
      "execution_count": 2,
      "outputs": []
    },
    {
      "cell_type": "code",
      "source": [
        "class User():\n",
        "  def __init__(self):\n",
        "    self.i = 1\n",
        "    self.score = 0\n",
        "    self.correct = 2\n",
        "    self.incorrect = -0.25"
      ],
      "metadata": {
        "id": "CxAFN1lZhyV3"
      },
      "execution_count": 3,
      "outputs": []
    },
    {
      "cell_type": "code",
      "source": [
        "class Data(User):\n",
        "  def __init__(self):\n",
        "    super().__init__()\n",
        "    self.getCategories()\n",
        "  def checkBool(self, choice:str, ans):\n",
        "    ans = html.unescape(ans)\n",
        "    choice = choice.title()\n",
        "    if len(choice) == 1:\n",
        "      if choice == 'T':\n",
        "        return  ans == 'True'\n",
        "      elif choice == 'F':\n",
        "        return ans == 'False'\n",
        "    else:\n",
        "      return ans == choice\n",
        "  def checkMultiple(self, list_,choice, ans):\n",
        "    choice = int(choice)\n",
        "    if choice > 0 and choice < 5:\n",
        "      return list_[choice-1] == ans\n",
        "    return False\n",
        "  def process(self, q):\n",
        "    i, tf = self.i, ''\n",
        "    self.i += 1\n",
        "    try:\n",
        "      question = html.unescape(q['question'])\n",
        "      m = False\n",
        "      print(f\"Q {i}). {question}\\n\")\n",
        "      if q['type'] == 'multiple':\n",
        "        m = True\n",
        "        options = q['incorrect_answers']\n",
        "        options.append(q['correct_answer'])\n",
        "        trackoptions = dict()\n",
        "        for ind in range(4):\n",
        "          x = random.choice(options)\n",
        "          options.remove(x)\n",
        "          x = html.unescape(x)\n",
        "          trackoptions[ind] = x\n",
        "          print(f'{ind+1} : {x}')\n",
        "      else:\n",
        "        tf = ' True or False '\n",
        "\n",
        "      choice = input(f'Enter your guess{tf}: ').strip()\n",
        "\n",
        "      if (m and self.checkMultiple(trackoptions,choice, html.unescape(q['correct_answer']))) or (not m and self.checkBool(choice, q['correct_answer'])):\n",
        "        self.score += self.correct\n",
        "        print(f'You guessed the right answer! Your score : {self.score}')\n",
        "        return True\n",
        "      self.score += self.incorrect\n",
        "      print(f\"The correct answer was {html.unescape(q['correct_answer'])}! Your score : {self.score}\")\n",
        "      return True\n",
        "    except Exception as e:\n",
        "      print('Error: ', e)\n",
        "      return False\n",
        "\n",
        "  def getCategories(self):\n",
        "    try:\n",
        "      response = requests.get(\"https://opentdb.com/api_config.php\")\n",
        "      if response.status_code == 200:\n",
        "        data = BeautifulSoup(response.content,'html.parser')\n",
        "        forms = data.find_all('form')\n",
        "        selects = forms[0].find_all('select')\n",
        "        category = [select for select in selects if select.get('name') == 'trivia_category']\n",
        "        options = category[0].find_all('option')\n",
        "        self.categories = list()\n",
        "        self.tableOfCat = PrettyTable(field_names=['Index','Categories'])\n",
        "        i = 0\n",
        "        for option in options:\n",
        "          cat = option.text.strip()\n",
        "          self.categories.append(option.get('value'))\n",
        "          self.tableOfCat.add_row([i, cat])\n",
        "          i += 1\n",
        "    except Exception as e:\n",
        "      print('Can\\'t access the website', e)\n",
        "\n",
        "  def findCategory(self):\n",
        "    cat = input(f'Enter category of questions to be asked from the table\\n{self.tableOfCat}\\n : ')\n",
        "    try:\n",
        "      return self.categories[int(cat.strip())]\n",
        "    except Exception as e:\n",
        "      print('Continuing with random set of questions!')\n",
        "      return self.categories[0]\n",
        "\n",
        "  def getFromUrl(self,url):\n",
        "    try:\n",
        "      response = requests.get(url)\n",
        "      if response.status_code == 200:\n",
        "        # print(response)\n",
        "        json_content = response.json()\n",
        "        # print(json_content)\n",
        "        return json_content['results']\n",
        "    except Exception as e:\n",
        "      print('Error : ', e)\n",
        "      return None\n",
        "\n",
        "  def getData(self):\n",
        "    try:\n",
        "      nq = input('Enter no. of questions(1-50) : ').strip()\n",
        "      if not nq.isdigit() or int(nq) > 50 or int(nq) < 1:\n",
        "        nq = '10'\n",
        "      diff, qtype = 'a', 'any'\n",
        "      cat = self.findCategory()\n",
        "      diff = input('Enter difficulty level(Easy(e), Medium(m) or Hard(h) or Any(a))? : ').strip().lower()\n",
        "      difficulty = {'a':'a' ,'e':'easy', 'm':'medium', 'h':'hard'}\n",
        "      qtype = input('Enter type of questions to be asked(Boolean (b) or Multiple choice (m) or Random (r)) : ').strip().lower()\n",
        "      qtype = 'boolean' if qtype == 'b' else ('multiple' if qtype == 'm' else 'any')\n",
        "      url = f'https://opentdb.com/api.php?amount={nq}'\n",
        "      url = url + f\"&category={cat}\" if cat != 'any' else url\n",
        "      url = url + f\"&type={qtype}\" if qtype != 'any' else url\n",
        "      url = url + f\"&difficulty={difficulty[diff]}\" if diff != 'a' else url\n",
        "      # print(url)\n",
        "      return self.getFromUrl(url)\n",
        "    except Exception as e:\n",
        "      print('Error : ',e)\n",
        "      return None"
      ],
      "metadata": {
        "id": "vgdUoDsmluMN"
      },
      "execution_count": 7,
      "outputs": []
    },
    {
      "cell_type": "code",
      "source": [
        "def main():\n",
        "  retry = False\n",
        "  data = Data()\n",
        "  while True:\n",
        "    if retry:\n",
        "      choice = input(f'Your score was {data.score}! Quit?(y/n) : ').strip()\n",
        "      if choice in ('y', 'Y'):\n",
        "        break\n",
        "    question_bank = data.getData()\n",
        "\n",
        "    if question_bank and (input('Begin quiz?(y/n) : ') in ('y', 'Y')):\n",
        "      while len(question_bank) > 0:\n",
        "        clear_output(wait=True)\n",
        "        question = random.choice(question_bank)\n",
        "        if data.process(question):\n",
        "            question_bank.remove(question)\n",
        "        choice = input('Continue? (y/n) : ').strip()\n",
        "        if choice in ('n', 'N'):\n",
        "          break\n",
        "    retry = True"
      ],
      "metadata": {
        "id": "JoVX2FkxkDba"
      },
      "execution_count": 5,
      "outputs": []
    },
    {
      "cell_type": "code",
      "source": [
        "main()"
      ],
      "metadata": {
        "id": "cRwa6CZykFZn",
        "colab": {
          "base_uri": "https://localhost:8080/"
        },
        "outputId": "1a48f986-adf4-4484-ee5c-cd5d14f8dbfe"
      },
      "execution_count": 8,
      "outputs": [
        {
          "name": "stdout",
          "output_type": "stream",
          "text": [
            "Q 5). The protagonist's names in 'Who's Afraid of Virginia Woolf', George and Martha, were derived from George Washington and his wife.\n",
            "\n",
            "Enter your guess True or False : t\n",
            "You guessed the right answer! Your score : 1.0\n",
            "Continue? (y/n) : y\n",
            "Your score was 1.0! Quit?(y/n) : y\n"
          ]
        }
      ]
    }
  ]
}